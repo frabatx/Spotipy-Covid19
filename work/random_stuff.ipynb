{
 "cells": [
  {
   "cell_type": "code",
   "execution_count": 11,
   "metadata": {},
   "outputs": [],
   "source": [
    "import pandas\n",
    "import spotipy\n",
    "from spotipy.oauth2 import SpotifyClientCredentials\n",
    "import json\n",
    "from pyspark.sql import SparkSession\n",
    "from pyspark.sql.types import StructType, StructField, StringType, IntegerType"
   ]
  },
  {
   "cell_type": "code",
   "execution_count": 13,
   "metadata": {},
   "outputs": [],
   "source": [
    "# Set spotipy object\n",
    "sp = spotipy.Spotify(client_credentials_manager=SpotifyClientCredentials(\n",
    "    client_id='118aa19f2b66476fbc062f0ac146d8b5',\n",
    "    client_secret='7ca95a3159ab4391bee70f70d47a9271'\n",
    "))"
   ]
  },
  {
   "cell_type": "markdown",
   "metadata": {},
   "source": [
    "### Raccolta dati"
   ]
  },
  {
   "cell_type": "code",
   "execution_count": 15,
   "metadata": {},
   "outputs": [
    {
     "data": {
      "text/plain": [
       "74652"
      ]
     },
     "execution_count": 15,
     "metadata": {},
     "output_type": "execute_result"
    }
   ],
   "source": [
    "num_iteration = sp.search(q='covid', type='playlist', limit=50,offset=0)['playlists']['total']\n",
    "num_iteration"
   ]
  },
  {
   "cell_type": "code",
   "execution_count": null,
   "metadata": {},
   "outputs": [
    {
     "name": "stderr",
     "output_type": "stream",
     "text": [
      "HTTP Error for GET to https://api.spotify.com/v1/search returned 404 due to Not found.\n",
      "HTTP Error for GET to https://api.spotify.com/v1/search returned 404 due to Not found.\n",
      "HTTP Error for GET to https://api.spotify.com/v1/search returned 404 due to Not found.\n",
      "HTTP Error for GET to https://api.spotify.com/v1/search returned 404 due to Not found.\n",
      "HTTP Error for GET to https://api.spotify.com/v1/search returned 404 due to Not found.\n"
     ]
    },
    {
     "name": "stdout",
     "output_type": "stream",
     "text": [
      "Something went wrong at iteration:2000\n",
      "Something went wrong at iteration:2050\n",
      "Something went wrong at iteration:2100\n",
      "Something went wrong at iteration:2150\n",
      "Something went wrong at iteration:2200\n"
     ]
    },
    {
     "name": "stderr",
     "output_type": "stream",
     "text": [
      "HTTP Error for GET to https://api.spotify.com/v1/search returned 404 due to Not found.\n",
      "HTTP Error for GET to https://api.spotify.com/v1/search returned 404 due to Not found.\n",
      "HTTP Error for GET to https://api.spotify.com/v1/search returned 404 due to Not found.\n",
      "HTTP Error for GET to https://api.spotify.com/v1/search returned 404 due to Not found.\n",
      "HTTP Error for GET to https://api.spotify.com/v1/search returned 404 due to Not found.\n"
     ]
    },
    {
     "name": "stdout",
     "output_type": "stream",
     "text": [
      "Something went wrong at iteration:2250\n",
      "Something went wrong at iteration:2300\n",
      "Something went wrong at iteration:2350\n",
      "Something went wrong at iteration:2400\n",
      "Something went wrong at iteration:2450\n"
     ]
    },
    {
     "name": "stderr",
     "output_type": "stream",
     "text": [
      "HTTP Error for GET to https://api.spotify.com/v1/search returned 404 due to Not found.\n",
      "HTTP Error for GET to https://api.spotify.com/v1/search returned 404 due to Not found.\n",
      "HTTP Error for GET to https://api.spotify.com/v1/search returned 404 due to Not found.\n",
      "HTTP Error for GET to https://api.spotify.com/v1/search returned 404 due to Not found.\n",
      "HTTP Error for GET to https://api.spotify.com/v1/search returned 404 due to Not found.\n",
      "HTTP Error for GET to https://api.spotify.com/v1/search returned 404 due to Not found.\n"
     ]
    },
    {
     "name": "stdout",
     "output_type": "stream",
     "text": [
      "Something went wrong at iteration:2500\n",
      "Something went wrong at iteration:2550\n",
      "Something went wrong at iteration:2600\n",
      "Something went wrong at iteration:2650\n",
      "Something went wrong at iteration:2700\n",
      "Something went wrong at iteration:2750\n"
     ]
    },
    {
     "name": "stderr",
     "output_type": "stream",
     "text": [
      "HTTP Error for GET to https://api.spotify.com/v1/search returned 404 due to Not found.\n",
      "HTTP Error for GET to https://api.spotify.com/v1/search returned 404 due to Not found.\n",
      "HTTP Error for GET to https://api.spotify.com/v1/search returned 404 due to Not found.\n",
      "HTTP Error for GET to https://api.spotify.com/v1/search returned 404 due to Not found.\n"
     ]
    },
    {
     "name": "stdout",
     "output_type": "stream",
     "text": [
      "Something went wrong at iteration:2800\n",
      "Something went wrong at iteration:2850\n",
      "Something went wrong at iteration:2900\n",
      "Something went wrong at iteration:2950\n"
     ]
    },
    {
     "name": "stderr",
     "output_type": "stream",
     "text": [
      "HTTP Error for GET to https://api.spotify.com/v1/search returned 404 due to Not found.\n",
      "HTTP Error for GET to https://api.spotify.com/v1/search returned 404 due to Not found.\n",
      "HTTP Error for GET to https://api.spotify.com/v1/search returned 404 due to Not found.\n",
      "HTTP Error for GET to https://api.spotify.com/v1/search returned 404 due to Not found.\n",
      "HTTP Error for GET to https://api.spotify.com/v1/search returned 404 due to Not found.\n"
     ]
    },
    {
     "name": "stdout",
     "output_type": "stream",
     "text": [
      "Something went wrong at iteration:3000\n",
      "Something went wrong at iteration:3050\n",
      "Something went wrong at iteration:3100\n",
      "Something went wrong at iteration:3150\n",
      "Something went wrong at iteration:3200\n"
     ]
    },
    {
     "name": "stderr",
     "output_type": "stream",
     "text": [
      "HTTP Error for GET to https://api.spotify.com/v1/search returned 404 due to Not found.\n",
      "HTTP Error for GET to https://api.spotify.com/v1/search returned 404 due to Not found.\n",
      "HTTP Error for GET to https://api.spotify.com/v1/search returned 404 due to Not found.\n",
      "HTTP Error for GET to https://api.spotify.com/v1/search returned 404 due to Not found.\n",
      "HTTP Error for GET to https://api.spotify.com/v1/search returned 404 due to Not found.\n"
     ]
    },
    {
     "name": "stdout",
     "output_type": "stream",
     "text": [
      "Something went wrong at iteration:3250\n",
      "Something went wrong at iteration:3300\n",
      "Something went wrong at iteration:3350\n",
      "Something went wrong at iteration:3400\n",
      "Something went wrong at iteration:3450\n"
     ]
    },
    {
     "name": "stderr",
     "output_type": "stream",
     "text": [
      "HTTP Error for GET to https://api.spotify.com/v1/search returned 404 due to Not found.\n",
      "HTTP Error for GET to https://api.spotify.com/v1/search returned 404 due to Not found.\n",
      "HTTP Error for GET to https://api.spotify.com/v1/search returned 404 due to Not found.\n",
      "HTTP Error for GET to https://api.spotify.com/v1/search returned 404 due to Not found.\n",
      "HTTP Error for GET to https://api.spotify.com/v1/search returned 404 due to Not found.\n"
     ]
    },
    {
     "name": "stdout",
     "output_type": "stream",
     "text": [
      "Something went wrong at iteration:3500\n",
      "Something went wrong at iteration:3550\n",
      "Something went wrong at iteration:3600\n",
      "Something went wrong at iteration:3650\n",
      "Something went wrong at iteration:3700\n"
     ]
    },
    {
     "name": "stderr",
     "output_type": "stream",
     "text": [
      "HTTP Error for GET to https://api.spotify.com/v1/search returned 404 due to Not found.\n",
      "HTTP Error for GET to https://api.spotify.com/v1/search returned 404 due to Not found.\n",
      "HTTP Error for GET to https://api.spotify.com/v1/search returned 404 due to Not found.\n",
      "HTTP Error for GET to https://api.spotify.com/v1/search returned 404 due to Not found.\n",
      "HTTP Error for GET to https://api.spotify.com/v1/search returned 404 due to Not found.\n"
     ]
    },
    {
     "name": "stdout",
     "output_type": "stream",
     "text": [
      "Something went wrong at iteration:3750\n",
      "Something went wrong at iteration:3800\n",
      "Something went wrong at iteration:3850\n",
      "Something went wrong at iteration:3900\n",
      "Something went wrong at iteration:3950\n"
     ]
    },
    {
     "name": "stderr",
     "output_type": "stream",
     "text": [
      "HTTP Error for GET to https://api.spotify.com/v1/search returned 404 due to Not found.\n",
      "HTTP Error for GET to https://api.spotify.com/v1/search returned 404 due to Not found.\n",
      "HTTP Error for GET to https://api.spotify.com/v1/search returned 404 due to Not found.\n",
      "HTTP Error for GET to https://api.spotify.com/v1/search returned 404 due to Not found.\n",
      "HTTP Error for GET to https://api.spotify.com/v1/search returned 404 due to Not found.\n"
     ]
    },
    {
     "name": "stdout",
     "output_type": "stream",
     "text": [
      "Something went wrong at iteration:4000\n",
      "Something went wrong at iteration:4050\n",
      "Something went wrong at iteration:4100\n",
      "Something went wrong at iteration:4150\n",
      "Something went wrong at iteration:4200\n"
     ]
    },
    {
     "name": "stderr",
     "output_type": "stream",
     "text": [
      "HTTP Error for GET to https://api.spotify.com/v1/search returned 404 due to Not found.\n",
      "HTTP Error for GET to https://api.spotify.com/v1/search returned 404 due to Not found.\n",
      "HTTP Error for GET to https://api.spotify.com/v1/search returned 404 due to Not found.\n",
      "HTTP Error for GET to https://api.spotify.com/v1/search returned 404 due to Not found.\n",
      "HTTP Error for GET to https://api.spotify.com/v1/search returned 404 due to Not found.\n"
     ]
    },
    {
     "name": "stdout",
     "output_type": "stream",
     "text": [
      "Something went wrong at iteration:4250\n",
      "Something went wrong at iteration:4300\n",
      "Something went wrong at iteration:4350\n",
      "Something went wrong at iteration:4400\n",
      "Something went wrong at iteration:4450\n"
     ]
    },
    {
     "name": "stderr",
     "output_type": "stream",
     "text": [
      "HTTP Error for GET to https://api.spotify.com/v1/search returned 404 due to Not found.\n",
      "HTTP Error for GET to https://api.spotify.com/v1/search returned 404 due to Not found.\n",
      "HTTP Error for GET to https://api.spotify.com/v1/search returned 404 due to Not found.\n",
      "HTTP Error for GET to https://api.spotify.com/v1/search returned 404 due to Not found.\n",
      "HTTP Error for GET to https://api.spotify.com/v1/search returned 404 due to Not found.\n"
     ]
    },
    {
     "name": "stdout",
     "output_type": "stream",
     "text": [
      "Something went wrong at iteration:4500\n",
      "Something went wrong at iteration:4550\n",
      "Something went wrong at iteration:4600\n",
      "Something went wrong at iteration:4650\n",
      "Something went wrong at iteration:4700\n"
     ]
    },
    {
     "name": "stderr",
     "output_type": "stream",
     "text": [
      "HTTP Error for GET to https://api.spotify.com/v1/search returned 404 due to Not found.\n",
      "HTTP Error for GET to https://api.spotify.com/v1/search returned 404 due to Not found.\n",
      "HTTP Error for GET to https://api.spotify.com/v1/search returned 404 due to Not found.\n",
      "HTTP Error for GET to https://api.spotify.com/v1/search returned 404 due to Not found.\n",
      "HTTP Error for GET to https://api.spotify.com/v1/search returned 404 due to Not found.\n"
     ]
    },
    {
     "name": "stdout",
     "output_type": "stream",
     "text": [
      "Something went wrong at iteration:4750\n",
      "Something went wrong at iteration:4800\n",
      "Something went wrong at iteration:4850\n",
      "Something went wrong at iteration:4900\n",
      "Something went wrong at iteration:4950\n"
     ]
    },
    {
     "name": "stderr",
     "output_type": "stream",
     "text": [
      "HTTP Error for GET to https://api.spotify.com/v1/search returned 404 due to Not found.\n",
      "HTTP Error for GET to https://api.spotify.com/v1/search returned 404 due to Not found.\n",
      "HTTP Error for GET to https://api.spotify.com/v1/search returned 404 due to Not found.\n",
      "HTTP Error for GET to https://api.spotify.com/v1/search returned 404 due to Not found.\n",
      "HTTP Error for GET to https://api.spotify.com/v1/search returned 404 due to Not found.\n"
     ]
    },
    {
     "name": "stdout",
     "output_type": "stream",
     "text": [
      "Something went wrong at iteration:5000\n",
      "Something went wrong at iteration:5050\n",
      "Something went wrong at iteration:5100\n",
      "Something went wrong at iteration:5150\n",
      "Something went wrong at iteration:5200\n"
     ]
    },
    {
     "name": "stderr",
     "output_type": "stream",
     "text": [
      "HTTP Error for GET to https://api.spotify.com/v1/search returned 404 due to Not found.\n",
      "HTTP Error for GET to https://api.spotify.com/v1/search returned 404 due to Not found.\n",
      "HTTP Error for GET to https://api.spotify.com/v1/search returned 404 due to Not found.\n",
      "HTTP Error for GET to https://api.spotify.com/v1/search returned 404 due to Not found.\n",
      "HTTP Error for GET to https://api.spotify.com/v1/search returned 404 due to Not found.\n"
     ]
    },
    {
     "name": "stdout",
     "output_type": "stream",
     "text": [
      "Something went wrong at iteration:5250\n",
      "Something went wrong at iteration:5300\n",
      "Something went wrong at iteration:5350\n",
      "Something went wrong at iteration:5400\n",
      "Something went wrong at iteration:5450\n"
     ]
    },
    {
     "name": "stderr",
     "output_type": "stream",
     "text": [
      "HTTP Error for GET to https://api.spotify.com/v1/search returned 404 due to Not found.\n",
      "HTTP Error for GET to https://api.spotify.com/v1/search returned 404 due to Not found.\n",
      "HTTP Error for GET to https://api.spotify.com/v1/search returned 404 due to Not found.\n",
      "HTTP Error for GET to https://api.spotify.com/v1/search returned 404 due to Not found.\n",
      "HTTP Error for GET to https://api.spotify.com/v1/search returned 404 due to Not found.\n"
     ]
    },
    {
     "name": "stdout",
     "output_type": "stream",
     "text": [
      "Something went wrong at iteration:5500\n",
      "Something went wrong at iteration:5550\n",
      "Something went wrong at iteration:5600\n",
      "Something went wrong at iteration:5650\n",
      "Something went wrong at iteration:5700\n"
     ]
    },
    {
     "name": "stderr",
     "output_type": "stream",
     "text": [
      "HTTP Error for GET to https://api.spotify.com/v1/search returned 404 due to Not found.\n",
      "HTTP Error for GET to https://api.spotify.com/v1/search returned 404 due to Not found.\n",
      "HTTP Error for GET to https://api.spotify.com/v1/search returned 404 due to Not found.\n",
      "HTTP Error for GET to https://api.spotify.com/v1/search returned 404 due to Not found.\n"
     ]
    },
    {
     "name": "stdout",
     "output_type": "stream",
     "text": [
      "Something went wrong at iteration:5750\n",
      "Something went wrong at iteration:5800\n",
      "Something went wrong at iteration:5850\n",
      "Something went wrong at iteration:5900\n"
     ]
    },
    {
     "name": "stderr",
     "output_type": "stream",
     "text": [
      "HTTP Error for GET to https://api.spotify.com/v1/search returned 404 due to Not found.\n",
      "HTTP Error for GET to https://api.spotify.com/v1/search returned 404 due to Not found.\n",
      "HTTP Error for GET to https://api.spotify.com/v1/search returned 404 due to Not found.\n",
      "HTTP Error for GET to https://api.spotify.com/v1/search returned 404 due to Not found.\n"
     ]
    },
    {
     "name": "stdout",
     "output_type": "stream",
     "text": [
      "Something went wrong at iteration:5950\n",
      "Something went wrong at iteration:6000\n",
      "Something went wrong at iteration:6050\n",
      "Something went wrong at iteration:6100\n"
     ]
    },
    {
     "name": "stderr",
     "output_type": "stream",
     "text": [
      "HTTP Error for GET to https://api.spotify.com/v1/search returned 404 due to Not found.\n",
      "HTTP Error for GET to https://api.spotify.com/v1/search returned 404 due to Not found.\n",
      "HTTP Error for GET to https://api.spotify.com/v1/search returned 404 due to Not found.\n"
     ]
    },
    {
     "name": "stdout",
     "output_type": "stream",
     "text": [
      "Something went wrong at iteration:6150\n",
      "Something went wrong at iteration:6200\n",
      "Something went wrong at iteration:6250\n"
     ]
    },
    {
     "name": "stderr",
     "output_type": "stream",
     "text": [
      "HTTP Error for GET to https://api.spotify.com/v1/search returned 404 due to Not found.\n"
     ]
    },
    {
     "name": "stdout",
     "output_type": "stream",
     "text": [
      "Something went wrong at iteration:6300\n"
     ]
    },
    {
     "name": "stderr",
     "output_type": "stream",
     "text": [
      "HTTP Error for GET to https://api.spotify.com/v1/search returned 404 due to Not found.\n",
      "HTTP Error for GET to https://api.spotify.com/v1/search returned 404 due to Not found.\n",
      "HTTP Error for GET to https://api.spotify.com/v1/search returned 404 due to Not found.\n",
      "HTTP Error for GET to https://api.spotify.com/v1/search returned 404 due to Not found.\n"
     ]
    },
    {
     "name": "stdout",
     "output_type": "stream",
     "text": [
      "Something went wrong at iteration:6350\n",
      "Something went wrong at iteration:6400\n",
      "Something went wrong at iteration:6450\n",
      "Something went wrong at iteration:6500\n"
     ]
    },
    {
     "name": "stderr",
     "output_type": "stream",
     "text": [
      "HTTP Error for GET to https://api.spotify.com/v1/search returned 404 due to Not found.\n",
      "HTTP Error for GET to https://api.spotify.com/v1/search returned 404 due to Not found.\n",
      "HTTP Error for GET to https://api.spotify.com/v1/search returned 404 due to Not found.\n",
      "HTTP Error for GET to https://api.spotify.com/v1/search returned 404 due to Not found.\n",
      "HTTP Error for GET to https://api.spotify.com/v1/search returned 404 due to Not found.\n"
     ]
    },
    {
     "name": "stdout",
     "output_type": "stream",
     "text": [
      "Something went wrong at iteration:6550\n",
      "Something went wrong at iteration:6600\n",
      "Something went wrong at iteration:6650\n",
      "Something went wrong at iteration:6700\n",
      "Something went wrong at iteration:6750\n"
     ]
    },
    {
     "name": "stderr",
     "output_type": "stream",
     "text": [
      "HTTP Error for GET to https://api.spotify.com/v1/search returned 404 due to Not found.\n",
      "HTTP Error for GET to https://api.spotify.com/v1/search returned 404 due to Not found.\n",
      "HTTP Error for GET to https://api.spotify.com/v1/search returned 404 due to Not found.\n",
      "HTTP Error for GET to https://api.spotify.com/v1/search returned 404 due to Not found.\n"
     ]
    },
    {
     "name": "stdout",
     "output_type": "stream",
     "text": [
      "Something went wrong at iteration:6800\n",
      "Something went wrong at iteration:6850\n",
      "Something went wrong at iteration:6900\n",
      "Something went wrong at iteration:6950\n"
     ]
    },
    {
     "name": "stderr",
     "output_type": "stream",
     "text": [
      "HTTP Error for GET to https://api.spotify.com/v1/search returned 404 due to Not found.\n",
      "HTTP Error for GET to https://api.spotify.com/v1/search returned 404 due to Not found.\n",
      "HTTP Error for GET to https://api.spotify.com/v1/search returned 404 due to Not found.\n",
      "HTTP Error for GET to https://api.spotify.com/v1/search returned 404 due to Not found.\n",
      "HTTP Error for GET to https://api.spotify.com/v1/search returned 404 due to Not found.\n"
     ]
    },
    {
     "name": "stdout",
     "output_type": "stream",
     "text": [
      "Something went wrong at iteration:7000\n",
      "Something went wrong at iteration:7050\n",
      "Something went wrong at iteration:7100\n",
      "Something went wrong at iteration:7150\n",
      "Something went wrong at iteration:7200\n"
     ]
    },
    {
     "name": "stderr",
     "output_type": "stream",
     "text": [
      "HTTP Error for GET to https://api.spotify.com/v1/search returned 404 due to Not found.\n",
      "HTTP Error for GET to https://api.spotify.com/v1/search returned 404 due to Not found.\n",
      "HTTP Error for GET to https://api.spotify.com/v1/search returned 404 due to Not found.\n",
      "HTTP Error for GET to https://api.spotify.com/v1/search returned 404 due to Not found.\n",
      "HTTP Error for GET to https://api.spotify.com/v1/search returned 404 due to Not found.\n"
     ]
    },
    {
     "name": "stdout",
     "output_type": "stream",
     "text": [
      "Something went wrong at iteration:7250\n",
      "Something went wrong at iteration:7300\n",
      "Something went wrong at iteration:7350\n",
      "Something went wrong at iteration:7400\n",
      "Something went wrong at iteration:7450\n"
     ]
    },
    {
     "name": "stderr",
     "output_type": "stream",
     "text": [
      "HTTP Error for GET to https://api.spotify.com/v1/search returned 404 due to Not found.\n",
      "HTTP Error for GET to https://api.spotify.com/v1/search returned 404 due to Not found.\n",
      "HTTP Error for GET to https://api.spotify.com/v1/search returned 404 due to Not found.\n",
      "HTTP Error for GET to https://api.spotify.com/v1/search returned 404 due to Not found.\n",
      "HTTP Error for GET to https://api.spotify.com/v1/search returned 404 due to Not found.\n"
     ]
    },
    {
     "name": "stdout",
     "output_type": "stream",
     "text": [
      "Something went wrong at iteration:7500\n",
      "Something went wrong at iteration:7550\n",
      "Something went wrong at iteration:7600\n",
      "Something went wrong at iteration:7650\n",
      "Something went wrong at iteration:7700\n"
     ]
    },
    {
     "name": "stderr",
     "output_type": "stream",
     "text": [
      "HTTP Error for GET to https://api.spotify.com/v1/search returned 404 due to Not found.\n",
      "HTTP Error for GET to https://api.spotify.com/v1/search returned 404 due to Not found.\n",
      "HTTP Error for GET to https://api.spotify.com/v1/search returned 404 due to Not found.\n",
      "HTTP Error for GET to https://api.spotify.com/v1/search returned 404 due to Not found.\n"
     ]
    },
    {
     "name": "stdout",
     "output_type": "stream",
     "text": [
      "Something went wrong at iteration:7750\n",
      "Something went wrong at iteration:7800\n",
      "Something went wrong at iteration:7850\n",
      "Something went wrong at iteration:7900\n"
     ]
    },
    {
     "name": "stderr",
     "output_type": "stream",
     "text": [
      "HTTP Error for GET to https://api.spotify.com/v1/search returned 404 due to Not found.\n",
      "HTTP Error for GET to https://api.spotify.com/v1/search returned 404 due to Not found.\n",
      "HTTP Error for GET to https://api.spotify.com/v1/search returned 404 due to Not found.\n",
      "HTTP Error for GET to https://api.spotify.com/v1/search returned 404 due to Not found.\n",
      "HTTP Error for GET to https://api.spotify.com/v1/search returned 404 due to Not found.\n"
     ]
    },
    {
     "name": "stdout",
     "output_type": "stream",
     "text": [
      "Something went wrong at iteration:7950\n",
      "Something went wrong at iteration:8000\n",
      "Something went wrong at iteration:8050\n",
      "Something went wrong at iteration:8100\n",
      "Something went wrong at iteration:8150\n"
     ]
    },
    {
     "name": "stderr",
     "output_type": "stream",
     "text": [
      "HTTP Error for GET to https://api.spotify.com/v1/search returned 404 due to Not found.\n",
      "HTTP Error for GET to https://api.spotify.com/v1/search returned 404 due to Not found.\n",
      "HTTP Error for GET to https://api.spotify.com/v1/search returned 404 due to Not found.\n",
      "HTTP Error for GET to https://api.spotify.com/v1/search returned 404 due to Not found.\n",
      "HTTP Error for GET to https://api.spotify.com/v1/search returned 404 due to Not found.\n"
     ]
    },
    {
     "name": "stdout",
     "output_type": "stream",
     "text": [
      "Something went wrong at iteration:8200\n",
      "Something went wrong at iteration:8250\n",
      "Something went wrong at iteration:8300\n",
      "Something went wrong at iteration:8350\n",
      "Something went wrong at iteration:8400\n"
     ]
    },
    {
     "name": "stderr",
     "output_type": "stream",
     "text": [
      "HTTP Error for GET to https://api.spotify.com/v1/search returned 404 due to Not found.\n",
      "HTTP Error for GET to https://api.spotify.com/v1/search returned 404 due to Not found.\n",
      "HTTP Error for GET to https://api.spotify.com/v1/search returned 404 due to Not found.\n",
      "HTTP Error for GET to https://api.spotify.com/v1/search returned 404 due to Not found.\n",
      "HTTP Error for GET to https://api.spotify.com/v1/search returned 404 due to Not found.\n"
     ]
    },
    {
     "name": "stdout",
     "output_type": "stream",
     "text": [
      "Something went wrong at iteration:8450\n",
      "Something went wrong at iteration:8500\n",
      "Something went wrong at iteration:8550\n",
      "Something went wrong at iteration:8600\n",
      "Something went wrong at iteration:8650\n"
     ]
    },
    {
     "name": "stderr",
     "output_type": "stream",
     "text": [
      "HTTP Error for GET to https://api.spotify.com/v1/search returned 404 due to Not found.\n",
      "HTTP Error for GET to https://api.spotify.com/v1/search returned 404 due to Not found.\n",
      "HTTP Error for GET to https://api.spotify.com/v1/search returned 404 due to Not found.\n",
      "HTTP Error for GET to https://api.spotify.com/v1/search returned 404 due to Not found.\n"
     ]
    },
    {
     "name": "stdout",
     "output_type": "stream",
     "text": [
      "Something went wrong at iteration:8700\n",
      "Something went wrong at iteration:8750\n",
      "Something went wrong at iteration:8800\n",
      "Something went wrong at iteration:8850\n"
     ]
    },
    {
     "name": "stderr",
     "output_type": "stream",
     "text": [
      "HTTP Error for GET to https://api.spotify.com/v1/search returned 404 due to Not found.\n",
      "HTTP Error for GET to https://api.spotify.com/v1/search returned 404 due to Not found.\n",
      "HTTP Error for GET to https://api.spotify.com/v1/search returned 404 due to Not found.\n",
      "HTTP Error for GET to https://api.spotify.com/v1/search returned 404 due to Not found.\n",
      "HTTP Error for GET to https://api.spotify.com/v1/search returned 404 due to Not found.\n"
     ]
    },
    {
     "name": "stdout",
     "output_type": "stream",
     "text": [
      "Something went wrong at iteration:8900\n",
      "Something went wrong at iteration:8950\n",
      "Something went wrong at iteration:9000\n",
      "Something went wrong at iteration:9050\n",
      "Something went wrong at iteration:9100\n"
     ]
    },
    {
     "name": "stderr",
     "output_type": "stream",
     "text": [
      "HTTP Error for GET to https://api.spotify.com/v1/search returned 404 due to Not found.\n",
      "HTTP Error for GET to https://api.spotify.com/v1/search returned 404 due to Not found.\n",
      "HTTP Error for GET to https://api.spotify.com/v1/search returned 404 due to Not found.\n",
      "HTTP Error for GET to https://api.spotify.com/v1/search returned 404 due to Not found.\n",
      "HTTP Error for GET to https://api.spotify.com/v1/search returned 404 due to Not found.\n"
     ]
    },
    {
     "name": "stdout",
     "output_type": "stream",
     "text": [
      "Something went wrong at iteration:9150\n",
      "Something went wrong at iteration:9200\n",
      "Something went wrong at iteration:9250\n",
      "Something went wrong at iteration:9300\n"
     ]
    },
    {
     "name": "stderr",
     "output_type": "stream",
     "text": [
      "HTTP Error for GET to https://api.spotify.com/v1/search returned 404 due to Not found.\n",
      "HTTP Error for GET to https://api.spotify.com/v1/search returned 404 due to Not found.\n",
      "HTTP Error for GET to https://api.spotify.com/v1/search returned 404 due to Not found.\n"
     ]
    },
    {
     "name": "stdout",
     "output_type": "stream",
     "text": [
      "Something went wrong at iteration:9350\n",
      "Something went wrong at iteration:9400\n",
      "Something went wrong at iteration:9450\n",
      "Something went wrong at iteration:9500\n"
     ]
    },
    {
     "name": "stderr",
     "output_type": "stream",
     "text": [
      "HTTP Error for GET to https://api.spotify.com/v1/search returned 404 due to Not found.\n",
      "HTTP Error for GET to https://api.spotify.com/v1/search returned 404 due to Not found.\n",
      "HTTP Error for GET to https://api.spotify.com/v1/search returned 404 due to Not found.\n",
      "HTTP Error for GET to https://api.spotify.com/v1/search returned 404 due to Not found.\n"
     ]
    },
    {
     "name": "stdout",
     "output_type": "stream",
     "text": [
      "Something went wrong at iteration:9550\n",
      "Something went wrong at iteration:9600\n",
      "Something went wrong at iteration:9650\n",
      "Something went wrong at iteration:9700\n"
     ]
    },
    {
     "name": "stderr",
     "output_type": "stream",
     "text": [
      "HTTP Error for GET to https://api.spotify.com/v1/search returned 404 due to Not found.\n",
      "HTTP Error for GET to https://api.spotify.com/v1/search returned 404 due to Not found.\n",
      "HTTP Error for GET to https://api.spotify.com/v1/search returned 404 due to Not found.\n",
      "HTTP Error for GET to https://api.spotify.com/v1/search returned 404 due to Not found.\n",
      "HTTP Error for GET to https://api.spotify.com/v1/search returned 404 due to Not found.\n"
     ]
    },
    {
     "name": "stdout",
     "output_type": "stream",
     "text": [
      "Something went wrong at iteration:9750\n",
      "Something went wrong at iteration:9800\n",
      "Something went wrong at iteration:9850\n",
      "Something went wrong at iteration:9900\n",
      "Something went wrong at iteration:9950\n"
     ]
    },
    {
     "name": "stderr",
     "output_type": "stream",
     "text": [
      "HTTP Error for GET to https://api.spotify.com/v1/search returned 404 due to Not found.\n",
      "HTTP Error for GET to https://api.spotify.com/v1/search returned 404 due to Not found.\n",
      "HTTP Error for GET to https://api.spotify.com/v1/search returned 404 due to Not found.\n",
      "HTTP Error for GET to https://api.spotify.com/v1/search returned 404 due to Not found.\n",
      "HTTP Error for GET to https://api.spotify.com/v1/search returned 404 due to Not found.\n"
     ]
    },
    {
     "name": "stdout",
     "output_type": "stream",
     "text": [
      "Something went wrong at iteration:10000\n",
      "Something went wrong at iteration:10050\n",
      "Something went wrong at iteration:10100\n",
      "Something went wrong at iteration:10150\n",
      "Something went wrong at iteration:10200\n"
     ]
    },
    {
     "name": "stderr",
     "output_type": "stream",
     "text": [
      "HTTP Error for GET to https://api.spotify.com/v1/search returned 404 due to Not found.\n",
      "HTTP Error for GET to https://api.spotify.com/v1/search returned 404 due to Not found.\n",
      "HTTP Error for GET to https://api.spotify.com/v1/search returned 404 due to Not found.\n",
      "HTTP Error for GET to https://api.spotify.com/v1/search returned 404 due to Not found.\n"
     ]
    },
    {
     "name": "stdout",
     "output_type": "stream",
     "text": [
      "Something went wrong at iteration:10250\n",
      "Something went wrong at iteration:10300\n",
      "Something went wrong at iteration:10350\n",
      "Something went wrong at iteration:10400\n"
     ]
    },
    {
     "name": "stderr",
     "output_type": "stream",
     "text": [
      "HTTP Error for GET to https://api.spotify.com/v1/search returned 404 due to Not found.\n",
      "HTTP Error for GET to https://api.spotify.com/v1/search returned 404 due to Not found.\n",
      "HTTP Error for GET to https://api.spotify.com/v1/search returned 404 due to Not found.\n",
      "HTTP Error for GET to https://api.spotify.com/v1/search returned 404 due to Not found.\n"
     ]
    },
    {
     "name": "stdout",
     "output_type": "stream",
     "text": [
      "Something went wrong at iteration:10450\n",
      "Something went wrong at iteration:10500\n",
      "Something went wrong at iteration:10550\n",
      "Something went wrong at iteration:10600\n"
     ]
    },
    {
     "name": "stderr",
     "output_type": "stream",
     "text": [
      "HTTP Error for GET to https://api.spotify.com/v1/search returned 404 due to Not found.\n",
      "HTTP Error for GET to https://api.spotify.com/v1/search returned 404 due to Not found.\n",
      "HTTP Error for GET to https://api.spotify.com/v1/search returned 404 due to Not found.\n",
      "HTTP Error for GET to https://api.spotify.com/v1/search returned 404 due to Not found.\n",
      "HTTP Error for GET to https://api.spotify.com/v1/search returned 404 due to Not found.\n"
     ]
    },
    {
     "name": "stdout",
     "output_type": "stream",
     "text": [
      "Something went wrong at iteration:10650\n",
      "Something went wrong at iteration:10700\n",
      "Something went wrong at iteration:10750\n",
      "Something went wrong at iteration:10800\n",
      "Something went wrong at iteration:10850\n"
     ]
    },
    {
     "name": "stderr",
     "output_type": "stream",
     "text": [
      "HTTP Error for GET to https://api.spotify.com/v1/search returned 404 due to Not found.\n",
      "HTTP Error for GET to https://api.spotify.com/v1/search returned 404 due to Not found.\n",
      "HTTP Error for GET to https://api.spotify.com/v1/search returned 404 due to Not found.\n",
      "HTTP Error for GET to https://api.spotify.com/v1/search returned 404 due to Not found.\n",
      "HTTP Error for GET to https://api.spotify.com/v1/search returned 404 due to Not found.\n"
     ]
    },
    {
     "name": "stdout",
     "output_type": "stream",
     "text": [
      "Something went wrong at iteration:10900\n",
      "Something went wrong at iteration:10950\n",
      "Something went wrong at iteration:11000\n",
      "Something went wrong at iteration:11050\n",
      "Something went wrong at iteration:11100\n"
     ]
    },
    {
     "name": "stderr",
     "output_type": "stream",
     "text": [
      "HTTP Error for GET to https://api.spotify.com/v1/search returned 404 due to Not found.\n",
      "HTTP Error for GET to https://api.spotify.com/v1/search returned 404 due to Not found.\n",
      "HTTP Error for GET to https://api.spotify.com/v1/search returned 404 due to Not found.\n",
      "HTTP Error for GET to https://api.spotify.com/v1/search returned 404 due to Not found.\n",
      "HTTP Error for GET to https://api.spotify.com/v1/search returned 404 due to Not found.\n"
     ]
    },
    {
     "name": "stdout",
     "output_type": "stream",
     "text": [
      "Something went wrong at iteration:11150\n",
      "Something went wrong at iteration:11200\n",
      "Something went wrong at iteration:11250\n",
      "Something went wrong at iteration:11300\n",
      "Something went wrong at iteration:11350\n"
     ]
    },
    {
     "name": "stderr",
     "output_type": "stream",
     "text": [
      "HTTP Error for GET to https://api.spotify.com/v1/search returned 404 due to Not found.\n",
      "HTTP Error for GET to https://api.spotify.com/v1/search returned 404 due to Not found.\n",
      "HTTP Error for GET to https://api.spotify.com/v1/search returned 404 due to Not found.\n",
      "HTTP Error for GET to https://api.spotify.com/v1/search returned 404 due to Not found.\n",
      "HTTP Error for GET to https://api.spotify.com/v1/search returned 404 due to Not found.\n"
     ]
    },
    {
     "name": "stdout",
     "output_type": "stream",
     "text": [
      "Something went wrong at iteration:11400\n",
      "Something went wrong at iteration:11450\n",
      "Something went wrong at iteration:11500\n",
      "Something went wrong at iteration:11550\n",
      "Something went wrong at iteration:11600\n"
     ]
    },
    {
     "name": "stderr",
     "output_type": "stream",
     "text": [
      "HTTP Error for GET to https://api.spotify.com/v1/search returned 404 due to Not found.\n",
      "HTTP Error for GET to https://api.spotify.com/v1/search returned 404 due to Not found.\n",
      "HTTP Error for GET to https://api.spotify.com/v1/search returned 404 due to Not found.\n",
      "HTTP Error for GET to https://api.spotify.com/v1/search returned 404 due to Not found.\n",
      "HTTP Error for GET to https://api.spotify.com/v1/search returned 404 due to Not found.\n"
     ]
    },
    {
     "name": "stdout",
     "output_type": "stream",
     "text": [
      "Something went wrong at iteration:11650\n",
      "Something went wrong at iteration:11700\n",
      "Something went wrong at iteration:11750\n",
      "Something went wrong at iteration:11800\n",
      "Something went wrong at iteration:11850\n"
     ]
    },
    {
     "name": "stderr",
     "output_type": "stream",
     "text": [
      "HTTP Error for GET to https://api.spotify.com/v1/search returned 404 due to Not found.\n",
      "HTTP Error for GET to https://api.spotify.com/v1/search returned 404 due to Not found.\n",
      "HTTP Error for GET to https://api.spotify.com/v1/search returned 404 due to Not found.\n",
      "HTTP Error for GET to https://api.spotify.com/v1/search returned 404 due to Not found.\n",
      "HTTP Error for GET to https://api.spotify.com/v1/search returned 404 due to Not found.\n"
     ]
    },
    {
     "name": "stdout",
     "output_type": "stream",
     "text": [
      "Something went wrong at iteration:11900\n",
      "Something went wrong at iteration:11950\n",
      "Something went wrong at iteration:12000\n",
      "Something went wrong at iteration:12050\n",
      "Something went wrong at iteration:12100\n"
     ]
    },
    {
     "name": "stderr",
     "output_type": "stream",
     "text": [
      "HTTP Error for GET to https://api.spotify.com/v1/search returned 404 due to Not found.\n",
      "HTTP Error for GET to https://api.spotify.com/v1/search returned 404 due to Not found.\n",
      "HTTP Error for GET to https://api.spotify.com/v1/search returned 404 due to Not found.\n",
      "HTTP Error for GET to https://api.spotify.com/v1/search returned 404 due to Not found.\n"
     ]
    },
    {
     "name": "stdout",
     "output_type": "stream",
     "text": [
      "Something went wrong at iteration:12150\n",
      "Something went wrong at iteration:12200\n",
      "Something went wrong at iteration:12250\n",
      "Something went wrong at iteration:12300\n"
     ]
    },
    {
     "name": "stderr",
     "output_type": "stream",
     "text": [
      "HTTP Error for GET to https://api.spotify.com/v1/search returned 404 due to Not found.\n",
      "HTTP Error for GET to https://api.spotify.com/v1/search returned 404 due to Not found.\n",
      "HTTP Error for GET to https://api.spotify.com/v1/search returned 404 due to Not found.\n",
      "HTTP Error for GET to https://api.spotify.com/v1/search returned 404 due to Not found.\n"
     ]
    },
    {
     "name": "stdout",
     "output_type": "stream",
     "text": [
      "Something went wrong at iteration:12350\n",
      "Something went wrong at iteration:12400\n",
      "Something went wrong at iteration:12450\n",
      "Something went wrong at iteration:12500\n"
     ]
    },
    {
     "name": "stderr",
     "output_type": "stream",
     "text": [
      "HTTP Error for GET to https://api.spotify.com/v1/search returned 404 due to Not found.\n",
      "HTTP Error for GET to https://api.spotify.com/v1/search returned 404 due to Not found.\n",
      "HTTP Error for GET to https://api.spotify.com/v1/search returned 404 due to Not found.\n",
      "HTTP Error for GET to https://api.spotify.com/v1/search returned 404 due to Not found.\n",
      "HTTP Error for GET to https://api.spotify.com/v1/search returned 404 due to Not found.\n"
     ]
    },
    {
     "name": "stdout",
     "output_type": "stream",
     "text": [
      "Something went wrong at iteration:12550\n",
      "Something went wrong at iteration:12600\n",
      "Something went wrong at iteration:12650\n",
      "Something went wrong at iteration:12700\n",
      "Something went wrong at iteration:12750\n"
     ]
    },
    {
     "name": "stderr",
     "output_type": "stream",
     "text": [
      "HTTP Error for GET to https://api.spotify.com/v1/search returned 404 due to Not found.\n",
      "HTTP Error for GET to https://api.spotify.com/v1/search returned 404 due to Not found.\n",
      "HTTP Error for GET to https://api.spotify.com/v1/search returned 404 due to Not found.\n",
      "HTTP Error for GET to https://api.spotify.com/v1/search returned 404 due to Not found.\n",
      "HTTP Error for GET to https://api.spotify.com/v1/search returned 404 due to Not found.\n"
     ]
    },
    {
     "name": "stdout",
     "output_type": "stream",
     "text": [
      "Something went wrong at iteration:12800\n",
      "Something went wrong at iteration:12850\n",
      "Something went wrong at iteration:12900\n",
      "Something went wrong at iteration:12950\n",
      "Something went wrong at iteration:13000\n"
     ]
    },
    {
     "name": "stderr",
     "output_type": "stream",
     "text": [
      "HTTP Error for GET to https://api.spotify.com/v1/search returned 404 due to Not found.\n",
      "HTTP Error for GET to https://api.spotify.com/v1/search returned 404 due to Not found.\n",
      "HTTP Error for GET to https://api.spotify.com/v1/search returned 404 due to Not found.\n",
      "HTTP Error for GET to https://api.spotify.com/v1/search returned 404 due to Not found.\n",
      "HTTP Error for GET to https://api.spotify.com/v1/search returned 404 due to Not found.\n"
     ]
    },
    {
     "name": "stdout",
     "output_type": "stream",
     "text": [
      "Something went wrong at iteration:13050\n",
      "Something went wrong at iteration:13100\n",
      "Something went wrong at iteration:13150\n",
      "Something went wrong at iteration:13200\n",
      "Something went wrong at iteration:13250\n"
     ]
    },
    {
     "name": "stderr",
     "output_type": "stream",
     "text": [
      "HTTP Error for GET to https://api.spotify.com/v1/search returned 404 due to Not found.\n",
      "HTTP Error for GET to https://api.spotify.com/v1/search returned 404 due to Not found.\n",
      "HTTP Error for GET to https://api.spotify.com/v1/search returned 404 due to Not found.\n",
      "HTTP Error for GET to https://api.spotify.com/v1/search returned 404 due to Not found.\n",
      "HTTP Error for GET to https://api.spotify.com/v1/search returned 404 due to Not found.\n"
     ]
    },
    {
     "name": "stdout",
     "output_type": "stream",
     "text": [
      "Something went wrong at iteration:13300\n",
      "Something went wrong at iteration:13350\n",
      "Something went wrong at iteration:13400\n",
      "Something went wrong at iteration:13450\n",
      "Something went wrong at iteration:13500\n"
     ]
    },
    {
     "name": "stderr",
     "output_type": "stream",
     "text": [
      "HTTP Error for GET to https://api.spotify.com/v1/search returned 404 due to Not found.\n",
      "HTTP Error for GET to https://api.spotify.com/v1/search returned 404 due to Not found.\n",
      "HTTP Error for GET to https://api.spotify.com/v1/search returned 404 due to Not found.\n",
      "HTTP Error for GET to https://api.spotify.com/v1/search returned 404 due to Not found.\n",
      "HTTP Error for GET to https://api.spotify.com/v1/search returned 404 due to Not found.\n"
     ]
    },
    {
     "name": "stdout",
     "output_type": "stream",
     "text": [
      "Something went wrong at iteration:13550\n",
      "Something went wrong at iteration:13600\n",
      "Something went wrong at iteration:13650\n",
      "Something went wrong at iteration:13700\n",
      "Something went wrong at iteration:13750\n"
     ]
    },
    {
     "name": "stderr",
     "output_type": "stream",
     "text": [
      "HTTP Error for GET to https://api.spotify.com/v1/search returned 404 due to Not found.\n",
      "HTTP Error for GET to https://api.spotify.com/v1/search returned 404 due to Not found.\n",
      "HTTP Error for GET to https://api.spotify.com/v1/search returned 404 due to Not found.\n",
      "HTTP Error for GET to https://api.spotify.com/v1/search returned 404 due to Not found.\n"
     ]
    },
    {
     "name": "stdout",
     "output_type": "stream",
     "text": [
      "Something went wrong at iteration:13800\n",
      "Something went wrong at iteration:13850\n",
      "Something went wrong at iteration:13900\n",
      "Something went wrong at iteration:13950\n"
     ]
    },
    {
     "name": "stderr",
     "output_type": "stream",
     "text": [
      "HTTP Error for GET to https://api.spotify.com/v1/search returned 404 due to Not found.\n",
      "HTTP Error for GET to https://api.spotify.com/v1/search returned 404 due to Not found.\n",
      "HTTP Error for GET to https://api.spotify.com/v1/search returned 404 due to Not found.\n",
      "HTTP Error for GET to https://api.spotify.com/v1/search returned 404 due to Not found.\n",
      "HTTP Error for GET to https://api.spotify.com/v1/search returned 404 due to Not found.\n"
     ]
    },
    {
     "name": "stdout",
     "output_type": "stream",
     "text": [
      "Something went wrong at iteration:14000\n",
      "Something went wrong at iteration:14050\n",
      "Something went wrong at iteration:14100\n",
      "Something went wrong at iteration:14150\n"
     ]
    },
    {
     "name": "stderr",
     "output_type": "stream",
     "text": [
      "HTTP Error for GET to https://api.spotify.com/v1/search returned 404 due to Not found.\n",
      "HTTP Error for GET to https://api.spotify.com/v1/search returned 404 due to Not found.\n",
      "HTTP Error for GET to https://api.spotify.com/v1/search returned 404 due to Not found.\n",
      "HTTP Error for GET to https://api.spotify.com/v1/search returned 404 due to Not found.\n"
     ]
    },
    {
     "name": "stdout",
     "output_type": "stream",
     "text": [
      "Something went wrong at iteration:14200\n",
      "Something went wrong at iteration:14250\n",
      "Something went wrong at iteration:14300\n",
      "Something went wrong at iteration:14350\n",
      "Something went wrong at iteration:14400\n"
     ]
    },
    {
     "name": "stderr",
     "output_type": "stream",
     "text": [
      "HTTP Error for GET to https://api.spotify.com/v1/search returned 404 due to Not found.\n",
      "HTTP Error for GET to https://api.spotify.com/v1/search returned 404 due to Not found.\n",
      "HTTP Error for GET to https://api.spotify.com/v1/search returned 404 due to Not found.\n",
      "HTTP Error for GET to https://api.spotify.com/v1/search returned 404 due to Not found.\n",
      "HTTP Error for GET to https://api.spotify.com/v1/search returned 404 due to Not found.\n"
     ]
    },
    {
     "name": "stdout",
     "output_type": "stream",
     "text": [
      "Something went wrong at iteration:14450\n",
      "Something went wrong at iteration:14500\n",
      "Something went wrong at iteration:14550\n",
      "Something went wrong at iteration:14600\n",
      "Something went wrong at iteration:14650\n"
     ]
    },
    {
     "name": "stderr",
     "output_type": "stream",
     "text": [
      "HTTP Error for GET to https://api.spotify.com/v1/search returned 404 due to Not found.\n",
      "HTTP Error for GET to https://api.spotify.com/v1/search returned 404 due to Not found.\n",
      "HTTP Error for GET to https://api.spotify.com/v1/search returned 404 due to Not found.\n",
      "HTTP Error for GET to https://api.spotify.com/v1/search returned 404 due to Not found.\n",
      "HTTP Error for GET to https://api.spotify.com/v1/search returned 404 due to Not found.\n"
     ]
    },
    {
     "name": "stdout",
     "output_type": "stream",
     "text": [
      "Something went wrong at iteration:14700\n",
      "Something went wrong at iteration:14750\n",
      "Something went wrong at iteration:14800\n",
      "Something went wrong at iteration:14850\n"
     ]
    },
    {
     "name": "stderr",
     "output_type": "stream",
     "text": [
      "HTTP Error for GET to https://api.spotify.com/v1/search returned 404 due to Not found.\n",
      "HTTP Error for GET to https://api.spotify.com/v1/search returned 404 due to Not found.\n",
      "HTTP Error for GET to https://api.spotify.com/v1/search returned 404 due to Not found.\n",
      "HTTP Error for GET to https://api.spotify.com/v1/search returned 404 due to Not found.\n"
     ]
    },
    {
     "name": "stdout",
     "output_type": "stream",
     "text": [
      "Something went wrong at iteration:14900\n",
      "Something went wrong at iteration:14950\n",
      "Something went wrong at iteration:15000\n",
      "Something went wrong at iteration:15050\n",
      "Something went wrong at iteration:15100\n"
     ]
    },
    {
     "name": "stderr",
     "output_type": "stream",
     "text": [
      "HTTP Error for GET to https://api.spotify.com/v1/search returned 404 due to Not found.\n",
      "HTTP Error for GET to https://api.spotify.com/v1/search returned 404 due to Not found.\n",
      "HTTP Error for GET to https://api.spotify.com/v1/search returned 404 due to Not found.\n"
     ]
    },
    {
     "name": "stdout",
     "output_type": "stream",
     "text": [
      "Something went wrong at iteration:15150\n",
      "Something went wrong at iteration:15200\n",
      "Something went wrong at iteration:15250\n"
     ]
    },
    {
     "name": "stderr",
     "output_type": "stream",
     "text": [
      "HTTP Error for GET to https://api.spotify.com/v1/search returned 404 due to Not found.\n",
      "HTTP Error for GET to https://api.spotify.com/v1/search returned 404 due to Not found.\n",
      "HTTP Error for GET to https://api.spotify.com/v1/search returned 404 due to Not found.\n",
      "HTTP Error for GET to https://api.spotify.com/v1/search returned 404 due to Not found.\n",
      "HTTP Error for GET to https://api.spotify.com/v1/search returned 404 due to Not found.\n"
     ]
    },
    {
     "name": "stdout",
     "output_type": "stream",
     "text": [
      "Something went wrong at iteration:15300\n",
      "Something went wrong at iteration:15350\n",
      "Something went wrong at iteration:15400\n",
      "Something went wrong at iteration:15450\n",
      "Something went wrong at iteration:15500\n"
     ]
    },
    {
     "name": "stderr",
     "output_type": "stream",
     "text": [
      "HTTP Error for GET to https://api.spotify.com/v1/search returned 404 due to Not found.\n",
      "HTTP Error for GET to https://api.spotify.com/v1/search returned 404 due to Not found.\n",
      "HTTP Error for GET to https://api.spotify.com/v1/search returned 404 due to Not found.\n",
      "HTTP Error for GET to https://api.spotify.com/v1/search returned 404 due to Not found.\n",
      "HTTP Error for GET to https://api.spotify.com/v1/search returned 404 due to Not found.\n"
     ]
    },
    {
     "name": "stdout",
     "output_type": "stream",
     "text": [
      "Something went wrong at iteration:15550\n",
      "Something went wrong at iteration:15600\n",
      "Something went wrong at iteration:15650\n",
      "Something went wrong at iteration:15700\n",
      "Something went wrong at iteration:15750\n"
     ]
    },
    {
     "name": "stderr",
     "output_type": "stream",
     "text": [
      "HTTP Error for GET to https://api.spotify.com/v1/search returned 404 due to Not found.\n",
      "HTTP Error for GET to https://api.spotify.com/v1/search returned 404 due to Not found.\n",
      "HTTP Error for GET to https://api.spotify.com/v1/search returned 404 due to Not found.\n",
      "HTTP Error for GET to https://api.spotify.com/v1/search returned 404 due to Not found.\n",
      "HTTP Error for GET to https://api.spotify.com/v1/search returned 404 due to Not found.\n"
     ]
    },
    {
     "name": "stdout",
     "output_type": "stream",
     "text": [
      "Something went wrong at iteration:15800\n",
      "Something went wrong at iteration:15850\n",
      "Something went wrong at iteration:15900\n",
      "Something went wrong at iteration:15950\n",
      "Something went wrong at iteration:16000\n"
     ]
    },
    {
     "name": "stderr",
     "output_type": "stream",
     "text": [
      "HTTP Error for GET to https://api.spotify.com/v1/search returned 404 due to Not found.\n",
      "HTTP Error for GET to https://api.spotify.com/v1/search returned 404 due to Not found.\n",
      "HTTP Error for GET to https://api.spotify.com/v1/search returned 404 due to Not found.\n",
      "HTTP Error for GET to https://api.spotify.com/v1/search returned 404 due to Not found.\n",
      "HTTP Error for GET to https://api.spotify.com/v1/search returned 404 due to Not found.\n"
     ]
    },
    {
     "name": "stdout",
     "output_type": "stream",
     "text": [
      "Something went wrong at iteration:16050\n",
      "Something went wrong at iteration:16100\n",
      "Something went wrong at iteration:16150\n",
      "Something went wrong at iteration:16200\n",
      "Something went wrong at iteration:16250\n"
     ]
    },
    {
     "name": "stderr",
     "output_type": "stream",
     "text": [
      "HTTP Error for GET to https://api.spotify.com/v1/search returned 404 due to Not found.\n",
      "HTTP Error for GET to https://api.spotify.com/v1/search returned 404 due to Not found.\n"
     ]
    },
    {
     "name": "stdout",
     "output_type": "stream",
     "text": [
      "Something went wrong at iteration:16300\n",
      "Something went wrong at iteration:16350\n"
     ]
    },
    {
     "name": "stderr",
     "output_type": "stream",
     "text": [
      "HTTP Error for GET to https://api.spotify.com/v1/search returned 404 due to Not found.\n",
      "HTTP Error for GET to https://api.spotify.com/v1/search returned 404 due to Not found.\n",
      "HTTP Error for GET to https://api.spotify.com/v1/search returned 404 due to Not found.\n",
      "HTTP Error for GET to https://api.spotify.com/v1/search returned 404 due to Not found.\n",
      "HTTP Error for GET to https://api.spotify.com/v1/search returned 404 due to Not found.\n"
     ]
    },
    {
     "name": "stdout",
     "output_type": "stream",
     "text": [
      "Something went wrong at iteration:16400\n",
      "Something went wrong at iteration:16450\n",
      "Something went wrong at iteration:16500\n",
      "Something went wrong at iteration:16550\n",
      "Something went wrong at iteration:16600\n"
     ]
    },
    {
     "name": "stderr",
     "output_type": "stream",
     "text": [
      "HTTP Error for GET to https://api.spotify.com/v1/search returned 404 due to Not found.\n",
      "HTTP Error for GET to https://api.spotify.com/v1/search returned 404 due to Not found.\n",
      "HTTP Error for GET to https://api.spotify.com/v1/search returned 404 due to Not found.\n",
      "HTTP Error for GET to https://api.spotify.com/v1/search returned 404 due to Not found.\n",
      "HTTP Error for GET to https://api.spotify.com/v1/search returned 404 due to Not found.\n"
     ]
    },
    {
     "name": "stdout",
     "output_type": "stream",
     "text": [
      "Something went wrong at iteration:16650\n",
      "Something went wrong at iteration:16700\n",
      "Something went wrong at iteration:16750\n",
      "Something went wrong at iteration:16800\n",
      "Something went wrong at iteration:16850\n"
     ]
    },
    {
     "name": "stderr",
     "output_type": "stream",
     "text": [
      "HTTP Error for GET to https://api.spotify.com/v1/search returned 404 due to Not found.\n",
      "HTTP Error for GET to https://api.spotify.com/v1/search returned 404 due to Not found.\n",
      "HTTP Error for GET to https://api.spotify.com/v1/search returned 404 due to Not found.\n",
      "HTTP Error for GET to https://api.spotify.com/v1/search returned 404 due to Not found.\n",
      "HTTP Error for GET to https://api.spotify.com/v1/search returned 404 due to Not found.\n"
     ]
    },
    {
     "name": "stdout",
     "output_type": "stream",
     "text": [
      "Something went wrong at iteration:16900\n",
      "Something went wrong at iteration:16950\n",
      "Something went wrong at iteration:17000\n",
      "Something went wrong at iteration:17050\n",
      "Something went wrong at iteration:17100\n"
     ]
    },
    {
     "name": "stderr",
     "output_type": "stream",
     "text": [
      "HTTP Error for GET to https://api.spotify.com/v1/search returned 404 due to Not found.\n",
      "HTTP Error for GET to https://api.spotify.com/v1/search returned 404 due to Not found.\n",
      "HTTP Error for GET to https://api.spotify.com/v1/search returned 404 due to Not found.\n",
      "HTTP Error for GET to https://api.spotify.com/v1/search returned 404 due to Not found.\n",
      "HTTP Error for GET to https://api.spotify.com/v1/search returned 404 due to Not found.\n",
      "HTTP Error for GET to https://api.spotify.com/v1/search returned 404 due to Not found.\n"
     ]
    },
    {
     "name": "stdout",
     "output_type": "stream",
     "text": [
      "Something went wrong at iteration:17150\n",
      "Something went wrong at iteration:17200\n",
      "Something went wrong at iteration:17250\n",
      "Something went wrong at iteration:17300\n",
      "Something went wrong at iteration:17350\n"
     ]
    },
    {
     "name": "stderr",
     "output_type": "stream",
     "text": [
      "HTTP Error for GET to https://api.spotify.com/v1/search returned 404 due to Not found.\n",
      "HTTP Error for GET to https://api.spotify.com/v1/search returned 404 due to Not found.\n",
      "HTTP Error for GET to https://api.spotify.com/v1/search returned 404 due to Not found.\n",
      "HTTP Error for GET to https://api.spotify.com/v1/search returned 404 due to Not found.\n",
      "HTTP Error for GET to https://api.spotify.com/v1/search returned 404 due to Not found.\n"
     ]
    },
    {
     "name": "stdout",
     "output_type": "stream",
     "text": [
      "Something went wrong at iteration:17400\n",
      "Something went wrong at iteration:17450\n",
      "Something went wrong at iteration:17500\n",
      "Something went wrong at iteration:17550\n",
      "Something went wrong at iteration:17600\n",
      "Something went wrong at iteration:17650\n"
     ]
    },
    {
     "name": "stderr",
     "output_type": "stream",
     "text": [
      "HTTP Error for GET to https://api.spotify.com/v1/search returned 404 due to Not found.\n",
      "HTTP Error for GET to https://api.spotify.com/v1/search returned 404 due to Not found.\n",
      "HTTP Error for GET to https://api.spotify.com/v1/search returned 404 due to Not found.\n",
      "HTTP Error for GET to https://api.spotify.com/v1/search returned 404 due to Not found.\n",
      "HTTP Error for GET to https://api.spotify.com/v1/search returned 404 due to Not found.\n"
     ]
    },
    {
     "name": "stdout",
     "output_type": "stream",
     "text": [
      "Something went wrong at iteration:17700\n",
      "Something went wrong at iteration:17750\n",
      "Something went wrong at iteration:17800\n",
      "Something went wrong at iteration:17850\n",
      "Something went wrong at iteration:17900\n"
     ]
    },
    {
     "name": "stderr",
     "output_type": "stream",
     "text": [
      "HTTP Error for GET to https://api.spotify.com/v1/search returned 404 due to Not found.\n",
      "HTTP Error for GET to https://api.spotify.com/v1/search returned 404 due to Not found.\n",
      "HTTP Error for GET to https://api.spotify.com/v1/search returned 404 due to Not found.\n",
      "HTTP Error for GET to https://api.spotify.com/v1/search returned 404 due to Not found.\n",
      "HTTP Error for GET to https://api.spotify.com/v1/search returned 404 due to Not found.\n"
     ]
    },
    {
     "name": "stdout",
     "output_type": "stream",
     "text": [
      "Something went wrong at iteration:17950\n",
      "Something went wrong at iteration:18000\n",
      "Something went wrong at iteration:18050\n",
      "Something went wrong at iteration:18100\n",
      "Something went wrong at iteration:18150\n"
     ]
    },
    {
     "name": "stderr",
     "output_type": "stream",
     "text": [
      "HTTP Error for GET to https://api.spotify.com/v1/search returned 404 due to Not found.\n",
      "HTTP Error for GET to https://api.spotify.com/v1/search returned 404 due to Not found.\n",
      "HTTP Error for GET to https://api.spotify.com/v1/search returned 404 due to Not found.\n",
      "HTTP Error for GET to https://api.spotify.com/v1/search returned 404 due to Not found.\n"
     ]
    },
    {
     "name": "stdout",
     "output_type": "stream",
     "text": [
      "Something went wrong at iteration:18200\n",
      "Something went wrong at iteration:18250\n",
      "Something went wrong at iteration:18300\n",
      "Something went wrong at iteration:18350\n"
     ]
    },
    {
     "name": "stderr",
     "output_type": "stream",
     "text": [
      "HTTP Error for GET to https://api.spotify.com/v1/search returned 404 due to Not found.\n",
      "HTTP Error for GET to https://api.spotify.com/v1/search returned 404 due to Not found.\n",
      "HTTP Error for GET to https://api.spotify.com/v1/search returned 404 due to Not found.\n",
      "HTTP Error for GET to https://api.spotify.com/v1/search returned 404 due to Not found.\n",
      "HTTP Error for GET to https://api.spotify.com/v1/search returned 404 due to Not found.\n"
     ]
    },
    {
     "name": "stdout",
     "output_type": "stream",
     "text": [
      "Something went wrong at iteration:18400\n",
      "Something went wrong at iteration:18450\n",
      "Something went wrong at iteration:18500\n",
      "Something went wrong at iteration:18550\n",
      "Something went wrong at iteration:18600\n"
     ]
    },
    {
     "name": "stderr",
     "output_type": "stream",
     "text": [
      "HTTP Error for GET to https://api.spotify.com/v1/search returned 404 due to Not found.\n",
      "HTTP Error for GET to https://api.spotify.com/v1/search returned 404 due to Not found.\n",
      "HTTP Error for GET to https://api.spotify.com/v1/search returned 404 due to Not found.\n",
      "HTTP Error for GET to https://api.spotify.com/v1/search returned 404 due to Not found.\n",
      "HTTP Error for GET to https://api.spotify.com/v1/search returned 404 due to Not found.\n"
     ]
    },
    {
     "name": "stdout",
     "output_type": "stream",
     "text": [
      "Something went wrong at iteration:18650\n",
      "Something went wrong at iteration:18700\n",
      "Something went wrong at iteration:18750\n",
      "Something went wrong at iteration:18800\n",
      "Something went wrong at iteration:18850\n"
     ]
    },
    {
     "name": "stderr",
     "output_type": "stream",
     "text": [
      "HTTP Error for GET to https://api.spotify.com/v1/search returned 404 due to Not found.\n",
      "HTTP Error for GET to https://api.spotify.com/v1/search returned 404 due to Not found.\n",
      "HTTP Error for GET to https://api.spotify.com/v1/search returned 404 due to Not found.\n",
      "HTTP Error for GET to https://api.spotify.com/v1/search returned 404 due to Not found.\n",
      "HTTP Error for GET to https://api.spotify.com/v1/search returned 404 due to Not found.\n"
     ]
    },
    {
     "name": "stdout",
     "output_type": "stream",
     "text": [
      "Something went wrong at iteration:18900\n",
      "Something went wrong at iteration:18950\n",
      "Something went wrong at iteration:19000\n",
      "Something went wrong at iteration:19050\n",
      "Something went wrong at iteration:19100\n"
     ]
    },
    {
     "name": "stderr",
     "output_type": "stream",
     "text": [
      "HTTP Error for GET to https://api.spotify.com/v1/search returned 404 due to Not found.\n",
      "HTTP Error for GET to https://api.spotify.com/v1/search returned 404 due to Not found.\n",
      "HTTP Error for GET to https://api.spotify.com/v1/search returned 404 due to Not found.\n",
      "HTTP Error for GET to https://api.spotify.com/v1/search returned 404 due to Not found.\n",
      "HTTP Error for GET to https://api.spotify.com/v1/search returned 404 due to Not found.\n"
     ]
    },
    {
     "name": "stdout",
     "output_type": "stream",
     "text": [
      "Something went wrong at iteration:19150\n",
      "Something went wrong at iteration:19200\n",
      "Something went wrong at iteration:19250\n",
      "Something went wrong at iteration:19300\n",
      "Something went wrong at iteration:19350\n"
     ]
    },
    {
     "name": "stderr",
     "output_type": "stream",
     "text": [
      "HTTP Error for GET to https://api.spotify.com/v1/search returned 404 due to Not found.\n",
      "HTTP Error for GET to https://api.spotify.com/v1/search returned 404 due to Not found.\n",
      "HTTP Error for GET to https://api.spotify.com/v1/search returned 404 due to Not found.\n",
      "HTTP Error for GET to https://api.spotify.com/v1/search returned 404 due to Not found.\n",
      "HTTP Error for GET to https://api.spotify.com/v1/search returned 404 due to Not found.\n"
     ]
    },
    {
     "name": "stdout",
     "output_type": "stream",
     "text": [
      "Something went wrong at iteration:19400\n",
      "Something went wrong at iteration:19450\n",
      "Something went wrong at iteration:19500\n",
      "Something went wrong at iteration:19550\n",
      "Something went wrong at iteration:19600\n"
     ]
    },
    {
     "name": "stderr",
     "output_type": "stream",
     "text": [
      "HTTP Error for GET to https://api.spotify.com/v1/search returned 404 due to Not found.\n",
      "HTTP Error for GET to https://api.spotify.com/v1/search returned 404 due to Not found.\n",
      "HTTP Error for GET to https://api.spotify.com/v1/search returned 404 due to Not found.\n",
      "HTTP Error for GET to https://api.spotify.com/v1/search returned 404 due to Not found.\n",
      "HTTP Error for GET to https://api.spotify.com/v1/search returned 404 due to Not found.\n"
     ]
    },
    {
     "name": "stdout",
     "output_type": "stream",
     "text": [
      "Something went wrong at iteration:19650\n",
      "Something went wrong at iteration:19700\n",
      "Something went wrong at iteration:19750\n",
      "Something went wrong at iteration:19800\n",
      "Something went wrong at iteration:19850\n"
     ]
    },
    {
     "name": "stderr",
     "output_type": "stream",
     "text": [
      "HTTP Error for GET to https://api.spotify.com/v1/search returned 404 due to Not found.\n",
      "HTTP Error for GET to https://api.spotify.com/v1/search returned 404 due to Not found.\n",
      "HTTP Error for GET to https://api.spotify.com/v1/search returned 404 due to Not found.\n",
      "HTTP Error for GET to https://api.spotify.com/v1/search returned 404 due to Not found.\n"
     ]
    },
    {
     "name": "stdout",
     "output_type": "stream",
     "text": [
      "Something went wrong at iteration:19900\n",
      "Something went wrong at iteration:19950\n",
      "Something went wrong at iteration:20000\n",
      "Something went wrong at iteration:20050\n"
     ]
    },
    {
     "name": "stderr",
     "output_type": "stream",
     "text": [
      "HTTP Error for GET to https://api.spotify.com/v1/search returned 404 due to Not found.\n",
      "HTTP Error for GET to https://api.spotify.com/v1/search returned 404 due to Not found.\n",
      "HTTP Error for GET to https://api.spotify.com/v1/search returned 404 due to Not found.\n",
      "HTTP Error for GET to https://api.spotify.com/v1/search returned 404 due to Not found.\n",
      "HTTP Error for GET to https://api.spotify.com/v1/search returned 404 due to Not found.\n"
     ]
    },
    {
     "name": "stdout",
     "output_type": "stream",
     "text": [
      "Something went wrong at iteration:20100\n",
      "Something went wrong at iteration:20150\n",
      "Something went wrong at iteration:20200\n",
      "Something went wrong at iteration:20250\n",
      "Something went wrong at iteration:20300\n"
     ]
    },
    {
     "name": "stderr",
     "output_type": "stream",
     "text": [
      "HTTP Error for GET to https://api.spotify.com/v1/search returned 404 due to Not found.\n",
      "HTTP Error for GET to https://api.spotify.com/v1/search returned 404 due to Not found.\n",
      "HTTP Error for GET to https://api.spotify.com/v1/search returned 404 due to Not found.\n",
      "HTTP Error for GET to https://api.spotify.com/v1/search returned 404 due to Not found.\n",
      "HTTP Error for GET to https://api.spotify.com/v1/search returned 404 due to Not found.\n"
     ]
    },
    {
     "name": "stdout",
     "output_type": "stream",
     "text": [
      "Something went wrong at iteration:20350\n",
      "Something went wrong at iteration:20400\n",
      "Something went wrong at iteration:20450\n",
      "Something went wrong at iteration:20500\n",
      "Something went wrong at iteration:20550\n"
     ]
    },
    {
     "name": "stderr",
     "output_type": "stream",
     "text": [
      "HTTP Error for GET to https://api.spotify.com/v1/search returned 404 due to Not found.\n",
      "HTTP Error for GET to https://api.spotify.com/v1/search returned 404 due to Not found.\n",
      "HTTP Error for GET to https://api.spotify.com/v1/search returned 404 due to Not found.\n",
      "HTTP Error for GET to https://api.spotify.com/v1/search returned 404 due to Not found.\n",
      "HTTP Error for GET to https://api.spotify.com/v1/search returned 404 due to Not found.\n"
     ]
    },
    {
     "name": "stdout",
     "output_type": "stream",
     "text": [
      "Something went wrong at iteration:20600\n",
      "Something went wrong at iteration:20650\n",
      "Something went wrong at iteration:20700\n",
      "Something went wrong at iteration:20750\n",
      "Something went wrong at iteration:20800\n"
     ]
    },
    {
     "name": "stderr",
     "output_type": "stream",
     "text": [
      "HTTP Error for GET to https://api.spotify.com/v1/search returned 404 due to Not found.\n",
      "HTTP Error for GET to https://api.spotify.com/v1/search returned 404 due to Not found.\n",
      "HTTP Error for GET to https://api.spotify.com/v1/search returned 404 due to Not found.\n",
      "HTTP Error for GET to https://api.spotify.com/v1/search returned 404 due to Not found.\n",
      "HTTP Error for GET to https://api.spotify.com/v1/search returned 404 due to Not found.\n"
     ]
    },
    {
     "name": "stdout",
     "output_type": "stream",
     "text": [
      "Something went wrong at iteration:20850\n",
      "Something went wrong at iteration:20900\n",
      "Something went wrong at iteration:20950\n",
      "Something went wrong at iteration:21000\n",
      "Something went wrong at iteration:21050\n"
     ]
    },
    {
     "name": "stderr",
     "output_type": "stream",
     "text": [
      "HTTP Error for GET to https://api.spotify.com/v1/search returned 404 due to Not found.\n",
      "HTTP Error for GET to https://api.spotify.com/v1/search returned 404 due to Not found.\n",
      "HTTP Error for GET to https://api.spotify.com/v1/search returned 404 due to Not found.\n",
      "HTTP Error for GET to https://api.spotify.com/v1/search returned 404 due to Not found.\n"
     ]
    },
    {
     "name": "stdout",
     "output_type": "stream",
     "text": [
      "Something went wrong at iteration:21100\n",
      "Something went wrong at iteration:21150\n",
      "Something went wrong at iteration:21200\n",
      "Something went wrong at iteration:21250\n"
     ]
    },
    {
     "name": "stderr",
     "output_type": "stream",
     "text": [
      "HTTP Error for GET to https://api.spotify.com/v1/search returned 404 due to Not found.\n",
      "HTTP Error for GET to https://api.spotify.com/v1/search returned 404 due to Not found.\n"
     ]
    },
    {
     "name": "stdout",
     "output_type": "stream",
     "text": [
      "Something went wrong at iteration:21300\n",
      "Something went wrong at iteration:21350\n"
     ]
    },
    {
     "name": "stderr",
     "output_type": "stream",
     "text": [
      "HTTP Error for GET to https://api.spotify.com/v1/search returned 404 due to Not found.\n",
      "HTTP Error for GET to https://api.spotify.com/v1/search returned 404 due to Not found.\n",
      "HTTP Error for GET to https://api.spotify.com/v1/search returned 404 due to Not found.\n",
      "HTTP Error for GET to https://api.spotify.com/v1/search returned 404 due to Not found.\n",
      "HTTP Error for GET to https://api.spotify.com/v1/search returned 404 due to Not found.\n"
     ]
    },
    {
     "name": "stdout",
     "output_type": "stream",
     "text": [
      "Something went wrong at iteration:21400\n",
      "Something went wrong at iteration:21450\n",
      "Something went wrong at iteration:21500\n",
      "Something went wrong at iteration:21550\n",
      "Something went wrong at iteration:21600\n",
      "Something went wrong at iteration:21650\n"
     ]
    },
    {
     "name": "stderr",
     "output_type": "stream",
     "text": [
      "HTTP Error for GET to https://api.spotify.com/v1/search returned 404 due to Not found.\n",
      "HTTP Error for GET to https://api.spotify.com/v1/search returned 404 due to Not found.\n",
      "HTTP Error for GET to https://api.spotify.com/v1/search returned 404 due to Not found.\n",
      "HTTP Error for GET to https://api.spotify.com/v1/search returned 404 due to Not found.\n",
      "HTTP Error for GET to https://api.spotify.com/v1/search returned 404 due to Not found.\n",
      "HTTP Error for GET to https://api.spotify.com/v1/search returned 404 due to Not found.\n"
     ]
    },
    {
     "name": "stdout",
     "output_type": "stream",
     "text": [
      "Something went wrong at iteration:21700\n",
      "Something went wrong at iteration:21750\n",
      "Something went wrong at iteration:21800\n",
      "Something went wrong at iteration:21850\n",
      "Something went wrong at iteration:21900\n",
      "Something went wrong at iteration:21950\n"
     ]
    },
    {
     "name": "stderr",
     "output_type": "stream",
     "text": [
      "HTTP Error for GET to https://api.spotify.com/v1/search returned 404 due to Not found.\n",
      "HTTP Error for GET to https://api.spotify.com/v1/search returned 404 due to Not found.\n",
      "HTTP Error for GET to https://api.spotify.com/v1/search returned 404 due to Not found.\n",
      "HTTP Error for GET to https://api.spotify.com/v1/search returned 404 due to Not found.\n",
      "HTTP Error for GET to https://api.spotify.com/v1/search returned 404 due to Not found.\n",
      "HTTP Error for GET to https://api.spotify.com/v1/search returned 404 due to Not found.\n"
     ]
    },
    {
     "name": "stdout",
     "output_type": "stream",
     "text": [
      "Something went wrong at iteration:22000\n",
      "Something went wrong at iteration:22050\n",
      "Something went wrong at iteration:22100\n",
      "Something went wrong at iteration:22150\n",
      "Something went wrong at iteration:22200\n",
      "Something went wrong at iteration:22250\n"
     ]
    },
    {
     "name": "stderr",
     "output_type": "stream",
     "text": [
      "HTTP Error for GET to https://api.spotify.com/v1/search returned 404 due to Not found.\n",
      "HTTP Error for GET to https://api.spotify.com/v1/search returned 404 due to Not found.\n",
      "HTTP Error for GET to https://api.spotify.com/v1/search returned 404 due to Not found.\n",
      "HTTP Error for GET to https://api.spotify.com/v1/search returned 404 due to Not found.\n",
      "HTTP Error for GET to https://api.spotify.com/v1/search returned 404 due to Not found.\n",
      "HTTP Error for GET to https://api.spotify.com/v1/search returned 404 due to Not found.\n"
     ]
    },
    {
     "name": "stdout",
     "output_type": "stream",
     "text": [
      "Something went wrong at iteration:22300\n",
      "Something went wrong at iteration:22350\n",
      "Something went wrong at iteration:22400\n",
      "Something went wrong at iteration:22450\n",
      "Something went wrong at iteration:22500\n"
     ]
    },
    {
     "name": "stderr",
     "output_type": "stream",
     "text": [
      "HTTP Error for GET to https://api.spotify.com/v1/search returned 404 due to Not found.\n",
      "HTTP Error for GET to https://api.spotify.com/v1/search returned 404 due to Not found.\n",
      "HTTP Error for GET to https://api.spotify.com/v1/search returned 404 due to Not found.\n",
      "HTTP Error for GET to https://api.spotify.com/v1/search returned 404 due to Not found.\n",
      "HTTP Error for GET to https://api.spotify.com/v1/search returned 404 due to Not found.\n"
     ]
    },
    {
     "name": "stdout",
     "output_type": "stream",
     "text": [
      "Something went wrong at iteration:22550\n",
      "Something went wrong at iteration:22600\n",
      "Something went wrong at iteration:22650\n",
      "Something went wrong at iteration:22700\n",
      "Something went wrong at iteration:22750\n",
      "Something went wrong at iteration:22800\n"
     ]
    },
    {
     "name": "stderr",
     "output_type": "stream",
     "text": [
      "HTTP Error for GET to https://api.spotify.com/v1/search returned 404 due to Not found.\n",
      "HTTP Error for GET to https://api.spotify.com/v1/search returned 404 due to Not found.\n",
      "HTTP Error for GET to https://api.spotify.com/v1/search returned 404 due to Not found.\n",
      "HTTP Error for GET to https://api.spotify.com/v1/search returned 404 due to Not found.\n",
      "HTTP Error for GET to https://api.spotify.com/v1/search returned 404 due to Not found.\n",
      "HTTP Error for GET to https://api.spotify.com/v1/search returned 404 due to Not found.\n"
     ]
    },
    {
     "name": "stdout",
     "output_type": "stream",
     "text": [
      "Something went wrong at iteration:22850\n",
      "Something went wrong at iteration:22900\n",
      "Something went wrong at iteration:22950\n",
      "Something went wrong at iteration:23000\n",
      "Something went wrong at iteration:23050\n",
      "Something went wrong at iteration:23100\n"
     ]
    },
    {
     "name": "stderr",
     "output_type": "stream",
     "text": [
      "HTTP Error for GET to https://api.spotify.com/v1/search returned 404 due to Not found.\n",
      "HTTP Error for GET to https://api.spotify.com/v1/search returned 404 due to Not found.\n",
      "HTTP Error for GET to https://api.spotify.com/v1/search returned 404 due to Not found.\n",
      "HTTP Error for GET to https://api.spotify.com/v1/search returned 404 due to Not found.\n",
      "HTTP Error for GET to https://api.spotify.com/v1/search returned 404 due to Not found.\n"
     ]
    },
    {
     "name": "stdout",
     "output_type": "stream",
     "text": [
      "Something went wrong at iteration:23150\n",
      "Something went wrong at iteration:23200\n",
      "Something went wrong at iteration:23250\n",
      "Something went wrong at iteration:23300\n",
      "Something went wrong at iteration:23350\n"
     ]
    },
    {
     "name": "stderr",
     "output_type": "stream",
     "text": [
      "HTTP Error for GET to https://api.spotify.com/v1/search returned 404 due to Not found.\n",
      "HTTP Error for GET to https://api.spotify.com/v1/search returned 404 due to Not found.\n",
      "HTTP Error for GET to https://api.spotify.com/v1/search returned 404 due to Not found.\n",
      "HTTP Error for GET to https://api.spotify.com/v1/search returned 404 due to Not found.\n",
      "HTTP Error for GET to https://api.spotify.com/v1/search returned 404 due to Not found.\n"
     ]
    },
    {
     "name": "stdout",
     "output_type": "stream",
     "text": [
      "Something went wrong at iteration:23400\n",
      "Something went wrong at iteration:23450\n",
      "Something went wrong at iteration:23500\n",
      "Something went wrong at iteration:23550\n",
      "Something went wrong at iteration:23600\n"
     ]
    },
    {
     "name": "stderr",
     "output_type": "stream",
     "text": [
      "HTTP Error for GET to https://api.spotify.com/v1/search returned 404 due to Not found.\n",
      "HTTP Error for GET to https://api.spotify.com/v1/search returned 404 due to Not found.\n",
      "HTTP Error for GET to https://api.spotify.com/v1/search returned 404 due to Not found.\n",
      "HTTP Error for GET to https://api.spotify.com/v1/search returned 404 due to Not found.\n",
      "HTTP Error for GET to https://api.spotify.com/v1/search returned 404 due to Not found.\n",
      "HTTP Error for GET to https://api.spotify.com/v1/search returned 404 due to Not found.\n"
     ]
    },
    {
     "name": "stdout",
     "output_type": "stream",
     "text": [
      "Something went wrong at iteration:23650\n",
      "Something went wrong at iteration:23700\n",
      "Something went wrong at iteration:23750\n",
      "Something went wrong at iteration:23800\n",
      "Something went wrong at iteration:23850\n",
      "Something went wrong at iteration:23900\n"
     ]
    },
    {
     "name": "stderr",
     "output_type": "stream",
     "text": [
      "HTTP Error for GET to https://api.spotify.com/v1/search returned 404 due to Not found.\n",
      "HTTP Error for GET to https://api.spotify.com/v1/search returned 404 due to Not found.\n"
     ]
    },
    {
     "name": "stdout",
     "output_type": "stream",
     "text": [
      "Something went wrong at iteration:23950\n",
      "Something went wrong at iteration:24000\n",
      "Something went wrong at iteration:24050\n"
     ]
    },
    {
     "name": "stderr",
     "output_type": "stream",
     "text": [
      "HTTP Error for GET to https://api.spotify.com/v1/search returned 404 due to Not found.\n",
      "HTTP Error for GET to https://api.spotify.com/v1/search returned 404 due to Not found.\n",
      "HTTP Error for GET to https://api.spotify.com/v1/search returned 404 due to Not found.\n",
      "HTTP Error for GET to https://api.spotify.com/v1/search returned 404 due to Not found.\n",
      "HTTP Error for GET to https://api.spotify.com/v1/search returned 404 due to Not found.\n"
     ]
    },
    {
     "name": "stdout",
     "output_type": "stream",
     "text": [
      "Something went wrong at iteration:24100\n",
      "Something went wrong at iteration:24150\n",
      "Something went wrong at iteration:24200\n",
      "Something went wrong at iteration:24250\n",
      "Something went wrong at iteration:24300\n"
     ]
    },
    {
     "name": "stderr",
     "output_type": "stream",
     "text": [
      "HTTP Error for GET to https://api.spotify.com/v1/search returned 404 due to Not found.\n",
      "HTTP Error for GET to https://api.spotify.com/v1/search returned 404 due to Not found.\n",
      "HTTP Error for GET to https://api.spotify.com/v1/search returned 404 due to Not found.\n",
      "HTTP Error for GET to https://api.spotify.com/v1/search returned 404 due to Not found.\n",
      "HTTP Error for GET to https://api.spotify.com/v1/search returned 404 due to Not found.\n"
     ]
    },
    {
     "name": "stdout",
     "output_type": "stream",
     "text": [
      "Something went wrong at iteration:24350\n",
      "Something went wrong at iteration:24400\n",
      "Something went wrong at iteration:24450\n",
      "Something went wrong at iteration:24500\n",
      "Something went wrong at iteration:24550\n",
      "Something went wrong at iteration:24600\n"
     ]
    },
    {
     "name": "stderr",
     "output_type": "stream",
     "text": [
      "HTTP Error for GET to https://api.spotify.com/v1/search returned 404 due to Not found.\n",
      "HTTP Error for GET to https://api.spotify.com/v1/search returned 404 due to Not found.\n"
     ]
    },
    {
     "name": "stdout",
     "output_type": "stream",
     "text": [
      "Something went wrong at iteration:24650\n",
      "Something went wrong at iteration:24700\n",
      "Something went wrong at iteration:24750\n",
      "Something went wrong at iteration:24800\n"
     ]
    },
    {
     "name": "stderr",
     "output_type": "stream",
     "text": [
      "HTTP Error for GET to https://api.spotify.com/v1/search returned 404 due to Not found.\n",
      "HTTP Error for GET to https://api.spotify.com/v1/search returned 404 due to Not found.\n",
      "HTTP Error for GET to https://api.spotify.com/v1/search returned 404 due to Not found.\n",
      "HTTP Error for GET to https://api.spotify.com/v1/search returned 404 due to Not found.\n",
      "HTTP Error for GET to https://api.spotify.com/v1/search returned 404 due to Not found.\n",
      "HTTP Error for GET to https://api.spotify.com/v1/search returned 404 due to Not found.\n"
     ]
    },
    {
     "name": "stdout",
     "output_type": "stream",
     "text": [
      "Something went wrong at iteration:24850\n",
      "Something went wrong at iteration:24900\n",
      "Something went wrong at iteration:24950\n",
      "Something went wrong at iteration:25000\n",
      "Something went wrong at iteration:25050\n",
      "Something went wrong at iteration:25100\n"
     ]
    },
    {
     "name": "stderr",
     "output_type": "stream",
     "text": [
      "HTTP Error for GET to https://api.spotify.com/v1/search returned 404 due to Not found.\n",
      "HTTP Error for GET to https://api.spotify.com/v1/search returned 404 due to Not found.\n",
      "HTTP Error for GET to https://api.spotify.com/v1/search returned 404 due to Not found.\n",
      "HTTP Error for GET to https://api.spotify.com/v1/search returned 404 due to Not found.\n",
      "HTTP Error for GET to https://api.spotify.com/v1/search returned 404 due to Not found.\n",
      "HTTP Error for GET to https://api.spotify.com/v1/search returned 404 due to Not found.\n"
     ]
    },
    {
     "name": "stdout",
     "output_type": "stream",
     "text": [
      "Something went wrong at iteration:25150\n",
      "Something went wrong at iteration:25200\n",
      "Something went wrong at iteration:25250\n",
      "Something went wrong at iteration:25300\n",
      "Something went wrong at iteration:25350\n",
      "Something went wrong at iteration:25400\n"
     ]
    },
    {
     "name": "stderr",
     "output_type": "stream",
     "text": [
      "HTTP Error for GET to https://api.spotify.com/v1/search returned 404 due to Not found.\n",
      "HTTP Error for GET to https://api.spotify.com/v1/search returned 404 due to Not found.\n",
      "HTTP Error for GET to https://api.spotify.com/v1/search returned 404 due to Not found.\n",
      "HTTP Error for GET to https://api.spotify.com/v1/search returned 404 due to Not found.\n",
      "HTTP Error for GET to https://api.spotify.com/v1/search returned 404 due to Not found.\n",
      "HTTP Error for GET to https://api.spotify.com/v1/search returned 404 due to Not found.\n"
     ]
    },
    {
     "name": "stdout",
     "output_type": "stream",
     "text": [
      "Something went wrong at iteration:25450\n",
      "Something went wrong at iteration:25500\n",
      "Something went wrong at iteration:25550\n",
      "Something went wrong at iteration:25600\n",
      "Something went wrong at iteration:25650\n",
      "Something went wrong at iteration:25700\n"
     ]
    },
    {
     "name": "stderr",
     "output_type": "stream",
     "text": [
      "HTTP Error for GET to https://api.spotify.com/v1/search returned 404 due to Not found.\n",
      "HTTP Error for GET to https://api.spotify.com/v1/search returned 404 due to Not found.\n",
      "HTTP Error for GET to https://api.spotify.com/v1/search returned 404 due to Not found.\n",
      "HTTP Error for GET to https://api.spotify.com/v1/search returned 404 due to Not found.\n",
      "HTTP Error for GET to https://api.spotify.com/v1/search returned 404 due to Not found.\n",
      "HTTP Error for GET to https://api.spotify.com/v1/search returned 404 due to Not found.\n"
     ]
    },
    {
     "name": "stdout",
     "output_type": "stream",
     "text": [
      "Something went wrong at iteration:25750\n",
      "Something went wrong at iteration:25800\n",
      "Something went wrong at iteration:25850\n",
      "Something went wrong at iteration:25900\n",
      "Something went wrong at iteration:25950\n",
      "Something went wrong at iteration:26000\n"
     ]
    },
    {
     "name": "stderr",
     "output_type": "stream",
     "text": [
      "HTTP Error for GET to https://api.spotify.com/v1/search returned 404 due to Not found.\n",
      "HTTP Error for GET to https://api.spotify.com/v1/search returned 404 due to Not found.\n",
      "HTTP Error for GET to https://api.spotify.com/v1/search returned 404 due to Not found.\n",
      "HTTP Error for GET to https://api.spotify.com/v1/search returned 404 due to Not found.\n",
      "HTTP Error for GET to https://api.spotify.com/v1/search returned 404 due to Not found.\n",
      "HTTP Error for GET to https://api.spotify.com/v1/search returned 404 due to Not found.\n"
     ]
    },
    {
     "name": "stdout",
     "output_type": "stream",
     "text": [
      "Something went wrong at iteration:26050\n",
      "Something went wrong at iteration:26100\n",
      "Something went wrong at iteration:26150\n",
      "Something went wrong at iteration:26200\n",
      "Something went wrong at iteration:26250\n",
      "Something went wrong at iteration:26300\n"
     ]
    },
    {
     "name": "stderr",
     "output_type": "stream",
     "text": [
      "HTTP Error for GET to https://api.spotify.com/v1/search returned 404 due to Not found.\n",
      "HTTP Error for GET to https://api.spotify.com/v1/search returned 404 due to Not found.\n"
     ]
    },
    {
     "name": "stdout",
     "output_type": "stream",
     "text": [
      "Something went wrong at iteration:26350\n",
      "Something went wrong at iteration:26400\n"
     ]
    }
   ],
   "source": [
    "offset = 50\n",
    "track_results = []\n",
    "for i in range(0,num_iteration,offset):\n",
    "    try:\n",
    "        track_results.append(sp.search(q='covid', type='playlist', limit=50,offset=i)) \n",
    "    except:\n",
    "        print(\"Something went wrong at iteration:{}\".format(i))\n",
    "len(track_results)"
   ]
  },
  {
   "cell_type": "markdown",
   "metadata": {},
   "source": [
    "Lunghezza items: 75136\n",
    "### Connessione REDIS"
   ]
  },
  {
   "cell_type": "code",
   "execution_count": 2,
   "metadata": {},
   "outputs": [],
   "source": [
    "import redis"
   ]
  },
  {
   "cell_type": "code",
   "execution_count": 18,
   "metadata": {},
   "outputs": [
    {
     "data": {
      "text/plain": [
       "True"
      ]
     },
     "execution_count": 18,
     "metadata": {},
     "output_type": "execute_result"
    }
   ],
   "source": [
    "#\n",
    "# connect to redis running on this machine on its default port 6379\n",
    "#\n",
    "REDIS_HOST = \"jupyter_redis\"\n",
    "REDIS_PORT = 6379\n",
    "REDIS = redis.Redis(host=REDIS_HOST, port=REDIS_PORT)\n",
    "# test the connection\n",
    "REDIS.ping()"
   ]
  },
  {
   "cell_type": "code",
   "execution_count": 19,
   "metadata": {},
   "outputs": [
    {
     "data": {
      "text/plain": [
       "True"
      ]
     },
     "execution_count": 19,
     "metadata": {},
     "output_type": "execute_result"
    }
   ],
   "source": [
    "REDIS.set(\"io\",\"tu\")"
   ]
  },
  {
   "cell_type": "code",
   "execution_count": null,
   "metadata": {},
   "outputs": [],
   "source": []
  },
  {
   "cell_type": "markdown",
   "metadata": {},
   "source": [
    "### Connessione POSTGRES"
   ]
  },
  {
   "cell_type": "code",
   "execution_count": 2,
   "metadata": {},
   "outputs": [],
   "source": [
    "spark = SparkSession \\\n",
    "    .builder \\\n",
    "    .appName('04_notebook') \\\n",
    "    .config('spark.driver.extraClassPath', 'postgresql-42.2.10.jar') \\\n",
    "    .getOrCreate()"
   ]
  },
  {
   "cell_type": "code",
   "execution_count": 3,
   "metadata": {},
   "outputs": [],
   "source": [
    "properties = {\n",
    "    'driver': 'org.postgresql.Driver',\n",
    "    'url': 'jdbc:postgresql://postgres:5432/bakery',\n",
    "    'user': 'postgres',\n",
    "    'password': 'postgres1234',\n",
    "    'dbtable': 'transactions',\n",
    "}"
   ]
  },
  {
   "cell_type": "code",
   "execution_count": 4,
   "metadata": {},
   "outputs": [],
   "source": [
    "df2 = spark.read \\\n",
    "    .format('jdbc') \\\n",
    "    .option('driver', properties['driver']) \\\n",
    "    .option('url', properties['url']) \\\n",
    "    .option('user', properties['user']) \\\n",
    "    .option('password', properties['password']) \\\n",
    "    .option('dbtable', properties['dbtable']) \\\n",
    "    .load()"
   ]
  },
  {
   "cell_type": "code",
   "execution_count": 6,
   "metadata": {},
   "outputs": [
    {
     "name": "stdout",
     "output_type": "stream",
     "text": [
      "+-----+----------+--------+-----------+-------------+\n",
      "|id   |date      |time    |transaction|item         |\n",
      "+-----+----------+--------+-----------+-------------+\n",
      "|21295|2016-10-30|09:58:11|1          |Bread        |\n",
      "|21296|2016-10-30|10:05:34|2          |Scandinavian |\n",
      "|21297|2016-10-30|10:05:34|2          |Scandinavian |\n",
      "|21298|2016-10-30|10:07:57|3          |Hot chocolate|\n",
      "|21299|2016-10-30|10:07:57|3          |Jam          |\n",
      "|21300|2016-10-30|10:07:57|3          |Cookies      |\n",
      "|21301|2016-10-30|10:08:41|4          |Muffin       |\n",
      "|21302|2016-10-30|10:13:03|5          |Coffee       |\n",
      "|21303|2016-10-30|10:13:03|5          |Pastry       |\n",
      "|21304|2016-10-30|10:13:03|5          |Bread        |\n",
      "+-----+----------+--------+-----------+-------------+\n",
      "only showing top 10 rows\n",
      "\n"
     ]
    }
   ],
   "source": [
    "df2.show(10, False)"
   ]
  },
  {
   "cell_type": "code",
   "execution_count": null,
   "metadata": {},
   "outputs": [],
   "source": []
  }
 ],
 "metadata": {
  "kernelspec": {
   "display_name": "Python 3",
   "language": "python",
   "name": "python3"
  },
  "language_info": {
   "codemirror_mode": {
    "name": "ipython",
    "version": 3
   },
   "file_extension": ".py",
   "mimetype": "text/x-python",
   "name": "python",
   "nbconvert_exporter": "python",
   "pygments_lexer": "ipython3",
   "version": "3.8.6"
  }
 },
 "nbformat": 4,
 "nbformat_minor": 4
}
